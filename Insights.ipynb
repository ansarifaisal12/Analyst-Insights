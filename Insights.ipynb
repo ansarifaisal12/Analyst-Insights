{
 "cells": [
  {
   "cell_type": "code",
   "execution_count": 11,
   "id": "f379baba",
   "metadata": {},
   "outputs": [],
   "source": [
    "import pandas as pd\n",
    "import numpy as np\n",
    "import seaborn as sns \n",
    "import matplotlib.pyplot as plt"
   ]
  },
  {
   "cell_type": "code",
   "execution_count": 13,
   "id": "f638c856",
   "metadata": {},
   "outputs": [],
   "source": [
    "# Load the data into pandas dataframes\n",
    "date_df = pd.read_csv('dim_date.csv')\n",
    "hotel_df = pd.read_csv('dim_hotels.csv')\n",
    "room_df = pd.read_csv('dim_rooms.csv')\n",
    "booking_agg_df = pd.read_csv('fact_aggregated_bookings.csv')\n",
    "booking_df = pd.read_csv('fact_bookings.csv')"
   ]
  },
  {
   "cell_type": "code",
   "execution_count": 15,
   "id": "5dd2c44f",
   "metadata": {},
   "outputs": [],
   "source": [
    "# Create a metric for average revenue per room\n",
    "room_revenue = booking_df.groupby(['room_category']).agg({'revenue_realized': 'mean'})"
   ]
  },
  {
   "cell_type": "code",
   "execution_count": 16,
   "id": "057bfe7b",
   "metadata": {},
   "outputs": [
    {
     "data": {
      "text/html": [
       "<div>\n",
       "<style scoped>\n",
       "    .dataframe tbody tr th:only-of-type {\n",
       "        vertical-align: middle;\n",
       "    }\n",
       "\n",
       "    .dataframe tbody tr th {\n",
       "        vertical-align: top;\n",
       "    }\n",
       "\n",
       "    .dataframe thead th {\n",
       "        text-align: right;\n",
       "    }\n",
       "</style>\n",
       "<table border=\"1\" class=\"dataframe\">\n",
       "  <thead>\n",
       "    <tr style=\"text-align: right;\">\n",
       "      <th></th>\n",
       "      <th>revenue_realized</th>\n",
       "    </tr>\n",
       "    <tr>\n",
       "      <th>room_category</th>\n",
       "      <th></th>\n",
       "    </tr>\n",
       "  </thead>\n",
       "  <tbody>\n",
       "    <tr>\n",
       "      <th>RT1</th>\n",
       "      <td>8052.356422</td>\n",
       "    </tr>\n",
       "    <tr>\n",
       "      <th>RT2</th>\n",
       "      <td>11317.467003</td>\n",
       "    </tr>\n",
       "    <tr>\n",
       "      <th>RT3</th>\n",
       "      <td>15120.275600</td>\n",
       "    </tr>\n",
       "    <tr>\n",
       "      <th>RT4</th>\n",
       "      <td>23440.103652</td>\n",
       "    </tr>\n",
       "  </tbody>\n",
       "</table>\n",
       "</div>"
      ],
      "text/plain": [
       "               revenue_realized\n",
       "room_category                  \n",
       "RT1                 8052.356422\n",
       "RT2                11317.467003\n",
       "RT3                15120.275600\n",
       "RT4                23440.103652"
      ]
     },
     "execution_count": 16,
     "metadata": {},
     "output_type": "execute_result"
    }
   ],
   "source": [
    "room_revenue"
   ]
  },
  {
   "cell_type": "code",
   "execution_count": 17,
   "id": "b36f49de",
   "metadata": {},
   "outputs": [
    {
     "data": {
      "image/png": "[encoded data removed]",
      "text/plain": [
       "<Figure size 640x480 with 1 Axes>"
      ]
     },
     "metadata": {},
     "output_type": "display_data"
    }
   ],
   "source": [
    "# Plot the average revenue per room\n",
    "room_revenue.plot.bar()\n",
    "plt.xlabel('Room Category')\n",
    "plt.ylabel('Average Revenue per Room')\n",
    "plt.title('Average Revenue per Room Type')\n",
    "plt.show()"
   ]
  },
  {
   "cell_type": "code",
   "execution_count": 18,
   "id": "d922202c",
   "metadata": {},
   "outputs": [],
   "source": [
    "# Create a metric for average revenue per hotel\n",
    "hotel_revenue = booking_df.groupby(['property_id']).agg({'revenue_realized': 'mean'})"
   ]
  },
  {
   "cell_type": "code",
   "execution_count": 19,
   "id": "f0de5fe7",
   "metadata": {},
   "outputs": [
    {
     "data": {
      "text/html": [
       "<div>\n",
       "<style scoped>\n",
       "    .dataframe tbody tr th:only-of-type {\n",
       "        vertical-align: middle;\n",
       "    }\n",
       "\n",
       "    .dataframe tbody tr th {\n",
       "        vertical-align: top;\n",
       "    }\n",
       "\n",
       "    .dataframe thead th {\n",
       "        text-align: right;\n",
       "    }\n",
       "</style>\n",
       "<table border=\"1\" class=\"dataframe\">\n",
       "  <thead>\n",
       "    <tr style=\"text-align: right;\">\n",
       "      <th></th>\n",
       "      <th>revenue_realized</th>\n",
       "    </tr>\n",
       "    <tr>\n",
       "      <th>property_id</th>\n",
       "      <th></th>\n",
       "    </tr>\n",
       "  </thead>\n",
       "  <tbody>\n",
       "    <tr>\n",
       "      <th>16558</th>\n",
       "      <td>11437.098636</td>\n",
       "    </tr>\n",
       "    <tr>\n",
       "      <th>16559</th>\n",
       "      <td>16141.784955</td>\n",
       "    </tr>\n",
       "    <tr>\n",
       "      <th>16560</th>\n",
       "      <td>11705.130620</td>\n",
       "    </tr>\n",
       "    <tr>\n",
       "      <th>16561</th>\n",
       "      <td>13113.037574</td>\n",
       "    </tr>\n",
       "    <tr>\n",
       "      <th>16562</th>\n",
       "      <td>11709.039419</td>\n",
       "    </tr>\n",
       "    <tr>\n",
       "      <th>16563</th>\n",
       "      <td>12471.806072</td>\n",
       "    </tr>\n",
       "    <tr>\n",
       "      <th>17558</th>\n",
       "      <td>14839.305401</td>\n",
       "    </tr>\n",
       "    <tr>\n",
       "      <th>17559</th>\n",
       "      <td>15303.902638</td>\n",
       "    </tr>\n",
       "    <tr>\n",
       "      <th>17560</th>\n",
       "      <td>14634.328289</td>\n",
       "    </tr>\n",
       "    <tr>\n",
       "      <th>17561</th>\n",
       "      <td>14261.684739</td>\n",
       "    </tr>\n",
       "    <tr>\n",
       "      <th>17562</th>\n",
       "      <td>15161.845210</td>\n",
       "    </tr>\n",
       "    <tr>\n",
       "      <th>17563</th>\n",
       "      <td>16018.791226</td>\n",
       "    </tr>\n",
       "    <tr>\n",
       "      <th>17564</th>\n",
       "      <td>16606.101205</td>\n",
       "    </tr>\n",
       "    <tr>\n",
       "      <th>18558</th>\n",
       "      <td>10334.415642</td>\n",
       "    </tr>\n",
       "    <tr>\n",
       "      <th>18559</th>\n",
       "      <td>9102.743531</td>\n",
       "    </tr>\n",
       "    <tr>\n",
       "      <th>18560</th>\n",
       "      <td>9190.599578</td>\n",
       "    </tr>\n",
       "    <tr>\n",
       "      <th>18561</th>\n",
       "      <td>8677.678848</td>\n",
       "    </tr>\n",
       "    <tr>\n",
       "      <th>18562</th>\n",
       "      <td>9444.417019</td>\n",
       "    </tr>\n",
       "    <tr>\n",
       "      <th>18563</th>\n",
       "      <td>9483.667513</td>\n",
       "    </tr>\n",
       "    <tr>\n",
       "      <th>19558</th>\n",
       "      <td>12467.247769</td>\n",
       "    </tr>\n",
       "    <tr>\n",
       "      <th>19559</th>\n",
       "      <td>12757.377258</td>\n",
       "    </tr>\n",
       "    <tr>\n",
       "      <th>19560</th>\n",
       "      <td>13693.986453</td>\n",
       "    </tr>\n",
       "    <tr>\n",
       "      <th>19561</th>\n",
       "      <td>12720.251046</td>\n",
       "    </tr>\n",
       "    <tr>\n",
       "      <th>19562</th>\n",
       "      <td>14185.055058</td>\n",
       "    </tr>\n",
       "    <tr>\n",
       "      <th>19563</th>\n",
       "      <td>12672.456124</td>\n",
       "    </tr>\n",
       "  </tbody>\n",
       "</table>\n",
       "</div>"
      ],
      "text/plain": [
       "             revenue_realized\n",
       "property_id                  \n",
       "16558            11437.098636\n",
       "16559            16141.784955\n",
       "16560            11705.130620\n",
       "16561            13113.037574\n",
       "16562            11709.039419\n",
       "16563            12471.806072\n",
       "17558            14839.305401\n",
       "17559            15303.902638\n",
       "17560            14634.328289\n",
       "17561            14261.684739\n",
       "17562            15161.845210\n",
       "17563            16018.791226\n",
       "17564            16606.101205\n",
       "18558            10334.415642\n",
       "18559             9102.743531\n",
       "18560             9190.599578\n",
       "18561             8677.678848\n",
       "18562             9444.417019\n",
       "18563             9483.667513\n",
       "19558            12467.247769\n",
       "19559            12757.377258\n",
       "19560            13693.986453\n",
       "19561            12720.251046\n",
       "19562            14185.055058\n",
       "19563            12672.456124"
      ]
     },
     "execution_count": 19,
     "metadata": {},
     "output_type": "execute_result"
    }
   ],
   "source": [
    "hotel_revenue"
   ]
  },
  {
   "cell_type": "code",
   "execution_count": 20,
   "id": "6a48b4bd",
   "metadata": {},
   "outputs": [
    {
     "data": {
      "image/png": "[encoded data removed]",
      "text/plain": [
       "<Figure size 640x480 with 1 Axes>"
      ]
     },
     "metadata": {},
     "output_type": "display_data"
    }
   ],
   "source": [
    "# Plot the average revenue per hotel\n",
    "hotel_revenue.plot.bar()\n",
    "plt.xlabel('Hotel ID')\n",
    "plt.ylabel('Average Revenue per Hotel')\n",
    "plt.title('Average Revenue per Hotel')\n",
    "plt.show()"
   ]
  },
  {
   "cell_type": "code",
   "execution_count": 21,
   "id": "214edbf1",
   "metadata": {},
   "outputs": [],
   "source": [
    "# Create a metric for average revenue per city\n",
    "city_revenue = booking_df.merge(hotel_df, on='property_id')\n",
    "city_revenue = city_revenue.groupby(['city']).agg({'revenue_realized': 'mean'})"
   ]
  },
  {
   "cell_type": "code",
   "execution_count": 22,
   "id": "3d1a1f6b",
   "metadata": {},
   "outputs": [
    {
     "data": {
      "text/html": [
       "<div>\n",
       "<style scoped>\n",
       "    .dataframe tbody tr th:only-of-type {\n",
       "        vertical-align: middle;\n",
       "    }\n",
       "\n",
       "    .dataframe tbody tr th {\n",
       "        vertical-align: top;\n",
       "    }\n",
       "\n",
       "    .dataframe thead th {\n",
       "        text-align: right;\n",
       "    }\n",
       "</style>\n",
       "<table border=\"1\" class=\"dataframe\">\n",
       "  <thead>\n",
       "    <tr style=\"text-align: right;\">\n",
       "      <th></th>\n",
       "      <th>revenue_realized</th>\n",
       "    </tr>\n",
       "    <tr>\n",
       "      <th>city</th>\n",
       "      <th></th>\n",
       "    </tr>\n",
       "  </thead>\n",
       "  <tbody>\n",
       "    <tr>\n",
       "      <th>Bangalore</th>\n",
       "      <td>13130.842391</td>\n",
       "    </tr>\n",
       "    <tr>\n",
       "      <th>Delhi</th>\n",
       "      <td>12153.865627</td>\n",
       "    </tr>\n",
       "    <tr>\n",
       "      <th>Hyderabad</th>\n",
       "      <td>9322.198750</td>\n",
       "    </tr>\n",
       "    <tr>\n",
       "      <th>Mumbai</th>\n",
       "      <td>15386.974825</td>\n",
       "    </tr>\n",
       "  </tbody>\n",
       "</table>\n",
       "</div>"
      ],
      "text/plain": [
       "           revenue_realized\n",
       "city                       \n",
       "Bangalore      13130.842391\n",
       "Delhi          12153.865627\n",
       "Hyderabad       9322.198750\n",
       "Mumbai         15386.974825"
      ]
     },
     "execution_count": 22,
     "metadata": {},
     "output_type": "execute_result"
    }
   ],
   "source": [
    "city_revenue"
   ]
  },
  {
   "cell_type": "code",
   "execution_count": 23,
   "id": "11a910a6",
   "metadata": {},
   "outputs": [],
   "source": [
    "# Create a metric for average ratings given per hotel\n",
    "hotel_ratings = booking_df.groupby(['property_id']).agg({'ratings_given': 'mean'})\n"
   ]
  },
  {
   "cell_type": "code",
   "execution_count": 24,
   "id": "6e16145f",
   "metadata": {},
   "outputs": [
    {
     "data": {
      "text/html": [
       "<div>\n",
       "<style scoped>\n",
       "    .dataframe tbody tr th:only-of-type {\n",
       "        vertical-align: middle;\n",
       "    }\n",
       "\n",
       "    .dataframe tbody tr th {\n",
       "        vertical-align: top;\n",
       "    }\n",
       "\n",
       "    .dataframe thead th {\n",
       "        text-align: right;\n",
       "    }\n",
       "</style>\n",
       "<table border=\"1\" class=\"dataframe\">\n",
       "  <thead>\n",
       "    <tr style=\"text-align: right;\">\n",
       "      <th></th>\n",
       "      <th>ratings_given</th>\n",
       "    </tr>\n",
       "    <tr>\n",
       "      <th>property_id</th>\n",
       "      <th></th>\n",
       "    </tr>\n",
       "  </thead>\n",
       "  <tbody>\n",
       "    <tr>\n",
       "      <th>16558</th>\n",
       "      <td>4.250939</td>\n",
       "    </tr>\n",
       "    <tr>\n",
       "      <th>16559</th>\n",
       "      <td>4.324544</td>\n",
       "    </tr>\n",
       "    <tr>\n",
       "      <th>16560</th>\n",
       "      <td>3.013685</td>\n",
       "    </tr>\n",
       "    <tr>\n",
       "      <th>16561</th>\n",
       "      <td>4.276584</td>\n",
       "    </tr>\n",
       "    <tr>\n",
       "      <th>16562</th>\n",
       "      <td>3.067454</td>\n",
       "    </tr>\n",
       "    <tr>\n",
       "      <th>16563</th>\n",
       "      <td>4.270061</td>\n",
       "    </tr>\n",
       "    <tr>\n",
       "      <th>17558</th>\n",
       "      <td>3.050680</td>\n",
       "    </tr>\n",
       "    <tr>\n",
       "      <th>17559</th>\n",
       "      <td>4.320907</td>\n",
       "    </tr>\n",
       "    <tr>\n",
       "      <th>17560</th>\n",
       "      <td>3.035143</td>\n",
       "    </tr>\n",
       "    <tr>\n",
       "      <th>17561</th>\n",
       "      <td>4.298405</td>\n",
       "    </tr>\n",
       "    <tr>\n",
       "      <th>17562</th>\n",
       "      <td>2.364341</td>\n",
       "    </tr>\n",
       "    <tr>\n",
       "      <th>17563</th>\n",
       "      <td>4.285608</td>\n",
       "    </tr>\n",
       "    <tr>\n",
       "      <th>17564</th>\n",
       "      <td>2.294856</td>\n",
       "    </tr>\n",
       "    <tr>\n",
       "      <th>18558</th>\n",
       "      <td>3.069670</td>\n",
       "    </tr>\n",
       "    <tr>\n",
       "      <th>18559</th>\n",
       "      <td>2.328398</td>\n",
       "    </tr>\n",
       "    <tr>\n",
       "      <th>18560</th>\n",
       "      <td>4.264344</td>\n",
       "    </tr>\n",
       "    <tr>\n",
       "      <th>18561</th>\n",
       "      <td>4.247587</td>\n",
       "    </tr>\n",
       "    <tr>\n",
       "      <th>18562</th>\n",
       "      <td>4.303694</td>\n",
       "    </tr>\n",
       "    <tr>\n",
       "      <th>18563</th>\n",
       "      <td>3.070774</td>\n",
       "    </tr>\n",
       "    <tr>\n",
       "      <th>19558</th>\n",
       "      <td>2.362756</td>\n",
       "    </tr>\n",
       "    <tr>\n",
       "      <th>19559</th>\n",
       "      <td>3.047668</td>\n",
       "    </tr>\n",
       "    <tr>\n",
       "      <th>19560</th>\n",
       "      <td>4.282391</td>\n",
       "    </tr>\n",
       "    <tr>\n",
       "      <th>19561</th>\n",
       "      <td>3.078530</td>\n",
       "    </tr>\n",
       "    <tr>\n",
       "      <th>19562</th>\n",
       "      <td>4.276622</td>\n",
       "    </tr>\n",
       "    <tr>\n",
       "      <th>19563</th>\n",
       "      <td>3.019443</td>\n",
       "    </tr>\n",
       "  </tbody>\n",
       "</table>\n",
       "</div>"
      ],
      "text/plain": [
       "             ratings_given\n",
       "property_id               \n",
       "16558             4.250939\n",
       "16559             4.324544\n",
       "16560             3.013685\n",
       "16561             4.276584\n",
       "16562             3.067454\n",
       "16563             4.270061\n",
       "17558             3.050680\n",
       "17559             4.320907\n",
       "17560             3.035143\n",
       "17561             4.298405\n",
       "17562             2.364341\n",
       "17563             4.285608\n",
       "17564             2.294856\n",
       "18558             3.069670\n",
       "18559             2.328398\n",
       "18560             4.264344\n",
       "18561             4.247587\n",
       "18562             4.303694\n",
       "18563             3.070774\n",
       "19558             2.362756\n",
       "19559             3.047668\n",
       "19560             4.282391\n",
       "19561             3.078530\n",
       "19562             4.276622\n",
       "19563             3.019443"
      ]
     },
     "execution_count": 24,
     "metadata": {},
     "output_type": "execute_result"
    }
   ],
   "source": [
    "hotel_ratings"
   ]
  },
  {
   "cell_type": "code",
   "execution_count": 25,
   "id": "cbf4bd7e",
   "metadata": {},
   "outputs": [
    {
     "data": {
      "image/png": "[encoded data removed]",
      "text/plain": [
       "<Figure size 640x480 with 1 Axes>"
      ]
     },
     "metadata": {},
     "output_type": "display_data"
    }
   ],
   "source": [
    "# Plot the average ratings given per hotel\n",
    "hotel_ratings.plot.bar()\n",
    "plt.xlabel('Hotel ID')\n",
    "plt.ylabel('Average Ratings Given per Hotel')\n",
    "plt.title('Average Ratings Given per Hotel')\n",
    "plt.show()"
   ]
  },
  {
   "cell_type": "code",
   "execution_count": 28,
   "id": "1229b515",
   "metadata": {},
   "outputs": [
    {
     "name": "stdout",
     "output_type": "stream",
     "text": [
      "Total Revenue:  1708771229\n"
     ]
    }
   ],
   "source": [
    "# Total Revenue\n",
    "total_revenue = fact_bookings[\"revenue_realized\"].sum()\n",
    "print(\"Total Revenue: \", total_revenue)"
   ]
  },
  {
   "cell_type": "code",
   "execution_count": 29,
   "id": "a9612f45",
   "metadata": {},
   "outputs": [
    {
     "name": "stdout",
     "output_type": "stream",
     "text": [
      "Average Revenue per Booking:  12696.123255813953\n"
     ]
    }
   ],
   "source": [
    "# Average Revenue per Booking\n",
    "avg_revenue_per_booking = fact_bookings[\"revenue_realized\"].mean()\n",
    "print(\"Average Revenue per Booking: \", avg_revenue_per_booking)"
   ]
  },
  {
   "cell_type": "code",
   "execution_count": 30,
   "id": "54890db7",
   "metadata": {},
   "outputs": [
    {
     "name": "stdout",
     "output_type": "stream",
     "text": [
      "Average Room Occupancy Rate:  57.86925564116676\n"
     ]
    }
   ],
   "source": [
    "# Average Room Occupancy Rate\n",
    "total_successful_bookings = fact_aggregated_bookings[\"successful_bookings\"].sum()\n",
    "total_capacity = fact_aggregated_bookings[\"capacity\"].sum()\n",
    "avg_room_occupancy_rate = total_successful_bookings / total_capacity * 100\n",
    "print(\"Average Room Occupancy Rate: \", avg_room_occupancy_rate)"
   ]
  },
  {
   "cell_type": "code",
   "execution_count": 31,
   "id": "e22027a3",
   "metadata": {},
   "outputs": [
    {
     "name": "stdout",
     "output_type": "stream",
     "text": [
      "Average Rating:  3.619003934160154\n"
     ]
    }
   ],
   "source": [
    "# Average Rating\n",
    "avg_rating = fact_bookings[\"ratings_given\"].mean()\n",
    "print(\"Average Rating: \", avg_rating)"
   ]
  },
  {
   "cell_type": "code",
   "execution_count": null,
   "id": "6b1c4ffd",
   "metadata": {},
   "outputs": [],
   "source": []
  }
 ],
 "metadata": {
  "kernelspec": {
   "display_name": "Python 3 (ipykernel)",
   "language": "python",
   "name": "python3"
  },
  "language_info": {
   "codemirror_mode": {
    "name": "ipython",
    "version": 3
   },
   "file_extension": ".py",
   "mimetype": "text/x-python",
   "name": "python",
   "nbconvert_exporter": "python",
   "pygments_lexer": "ipython3",
   "version": "3.10.8"
  }
 },
 "nbformat": 4,
 "nbformat_minor": 5
}
